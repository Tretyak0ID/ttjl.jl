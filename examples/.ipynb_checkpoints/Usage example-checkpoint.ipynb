{
 "cells": [
  {
   "cell_type": "markdown",
   "id": "99b4daf0",
   "metadata": {},
   "source": [
    "# Usage example"
   ]
  },
  {
   "cell_type": "code",
   "execution_count": 22,
   "id": "4e0b3701",
   "metadata": {},
   "outputs": [
    {
     "name": "stderr",
     "output_type": "stream",
     "text": [
      "\u001b[32m\u001b[1m  Activating\u001b[22m\u001b[39m project at `~/.julia/dev/ttjl`\n"
     ]
    }
   ],
   "source": [
    "using Pkg\n",
    "using ttjl\n",
    "Pkg.activate(\"../\")"
   ]
  },
  {
   "cell_type": "code",
   "execution_count": 26,
   "id": "fedda096",
   "metadata": {},
   "outputs": [
    {
     "ename": "LoadError",
     "evalue": "UndefVarError: `tt_tensor` not defined",
     "output_type": "error",
     "traceback": [
      "UndefVarError: `tt_tensor` not defined",
      "",
      "Stacktrace:",
      " [1] top-level scope",
      "   @ In[26]:7"
     ]
    }
   ],
   "source": [
    "#standart initializations\n",
    "#1) From CoreCell array\n",
    "G = CoreCell(undef, 3)\n",
    "G[1] = rand(1, 4, 3)\n",
    "G[2] = rand(3, 6, 4)\n",
    "G[3] = rand(4, 3, 1)\n",
    "X = tt_tensor(G)"
   ]
  },
  {
   "cell_type": "code",
   "execution_count": null,
   "id": "71ecba6a",
   "metadata": {},
   "outputs": [],
   "source": []
  }
 ],
 "metadata": {
  "kernelspec": {
   "display_name": "Julia 1.9.4",
   "language": "julia",
   "name": "julia-1.9"
  },
  "language_info": {
   "file_extension": ".jl",
   "mimetype": "application/julia",
   "name": "julia",
   "version": "1.9.4"
  }
 },
 "nbformat": 4,
 "nbformat_minor": 5
}
